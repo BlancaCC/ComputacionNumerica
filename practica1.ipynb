{
 "cells": [
  {
   "cell_type": "code",
   "execution_count": 1,
   "metadata": {},
   "outputs": [],
   "source": [
    "f_c = lambda x : 4 - (3*(x-2)*((x-5)**2 + 4))/( x + (x + 2)**2 * ((x - 5)**2 + 3) )\n",
    "\n",
    "def plotting(f):\n",
    "    xs = [1.606 for i in range(800)]\n",
    "\n"
   ]
  }
 ],
 "metadata": {
  "kernelspec": {
   "display_name": "Python 3.9.7 ('tensorflow')",
   "language": "python",
   "name": "python3"
  },
  "language_info": {
   "codemirror_mode": {
    "name": "ipython",
    "version": 3
   },
   "file_extension": ".py",
   "mimetype": "text/x-python",
   "name": "python",
   "nbconvert_exporter": "python",
   "pygments_lexer": "ipython3",
   "version": "3.9.7"
  },
  "orig_nbformat": 4,
  "vscode": {
   "interpreter": {
    "hash": "24dcaf82da949eb8a169ffe40fd331a23a642ab22de3e08713f616aa663d0868"
   }
  }
 },
 "nbformat": 4,
 "nbformat_minor": 2
}
